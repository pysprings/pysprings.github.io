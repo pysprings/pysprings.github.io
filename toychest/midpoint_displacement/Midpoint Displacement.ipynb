{
 "cells": [
  {
   "cell_type": "markdown",
   "metadata": {},
   "source": [
    "\n",
    "~~Initialize segment~~\n",
    "```\n",
    "While iterations < num_of_iterations and segments_length > min_length:\n",
    "    For each segment:\n",
    "        Compute midpoint\n",
    "        Displace midpoint\n",
    "        Update segments\n",
    "        Reduce displacement bounds\n",
    "        iterations+1\n",
    "```"
   ]
  },
  {
   "cell_type": "code",
   "execution_count": 23,
   "metadata": {},
   "outputs": [
    {
     "name": "stdout",
     "output_type": "stream",
     "text": [
      "Populating the interactive namespace from numpy and matplotlib\n"
     ]
    }
   ],
   "source": [
    "%pylab inline"
   ]
  },
  {
   "cell_type": "code",
   "execution_count": 33,
   "metadata": {},
   "outputs": [],
   "source": [
    "# Initialize segment\n",
    "segment = [np.array([-50, 50]), np.array([50, 50])]"
   ]
  },
  {
   "cell_type": "code",
   "execution_count": 32,
   "metadata": {},
   "outputs": [],
   "source": [
    "i = 0\n",
    "new_line = segment\n",
    "while i < 2:\n",
    "    i += 1\n",
    "    # Calculate midpoint\n",
    "    a, b = segment\n",
    "    midpoint = (a + b)/2\n",
    "\n",
    "    # Displace\n",
    "    midpoint += [0, 50]  # midpoint = midpoint + [0, 50]\n",
    "\n",
    "    # Update segment\n",
    "    new_line = [a, midpoint, b]"
   ]
  },
  {
   "cell_type": "code",
   "execution_count": 31,
   "metadata": {},
   "outputs": [
    {
     "data": {
      "text/plain": [
       "<matplotlib.collections.PathCollection at 0x7fd88749d898>"
      ]
     },
     "execution_count": 31,
     "metadata": {},
     "output_type": "execute_result"
    },
    {
     "data": {
      "image/png": "[encoded data removed]",
      "text/plain": [
       "<Figure size 432x288 with 1 Axes>"
      ]
     },
     "metadata": {
      "needs_background": "light"
     },
     "output_type": "display_data"
    }
   ],
   "source": [
    "line = np.array(new_line)\n",
    "x, y = line.T\n",
    "plot(x, y)\n",
    "scatter(x, y)"
   ]
  },
  {
   "cell_type": "code",
   "execution_count": null,
   "metadata": {},
   "outputs": [],
   "source": []
  }
 ],
 "metadata": {
  "kernelspec": {
   "display_name": "Python 3",
   "language": "python",
   "name": "python3"
  },
  "language_info": {
   "codemirror_mode": {
    "name": "ipython",
    "version": 3
   },
   "file_extension": ".py",
   "mimetype": "text/x-python",
   "name": "python",
   "nbconvert_exporter": "python",
   "pygments_lexer": "ipython3",
   "version": "3.7.2"
  }
 },
 "nbformat": 4,
 "nbformat_minor": 4
}
